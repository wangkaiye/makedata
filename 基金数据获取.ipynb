{
 "cells": [
  {
   "cell_type": "code",
   "execution_count": 3,
   "metadata": {},
   "outputs": [
    {
     "ename": "KeyboardInterrupt",
     "evalue": "",
     "output_type": "error",
     "traceback": [
      "\u001b[1;31m---------------------------------------------------------------------------\u001b[0m",
      "\u001b[1;31mKeyboardInterrupt\u001b[0m                         Traceback (most recent call last)",
      "\u001b[1;32m<ipython-input-3-859b9d4b1ba2>\u001b[0m in \u001b[0;36m<module>\u001b[1;34m\u001b[0m\n\u001b[0;32m     58\u001b[0m     \u001b[1;32mfor\u001b[0m \u001b[0mx\u001b[0m \u001b[1;32min\u001b[0m \u001b[0mrange\u001b[0m\u001b[1;33m(\u001b[0m\u001b[1;36m1\u001b[0m\u001b[1;33m,\u001b[0m\u001b[1;36m7201\u001b[0m\u001b[1;33m)\u001b[0m\u001b[1;33m:\u001b[0m\u001b[1;33m\u001b[0m\u001b[1;33m\u001b[0m\u001b[0m\n\u001b[0;32m     59\u001b[0m         \u001b[0mfundsdata\u001b[0m\u001b[1;33m(\u001b[0m\u001b[1;33m)\u001b[0m\u001b[1;33m\u001b[0m\u001b[1;33m\u001b[0m\u001b[0m\n\u001b[1;32m---> 60\u001b[1;33m         \u001b[0mtime\u001b[0m\u001b[1;33m.\u001b[0m\u001b[0msleep\u001b[0m\u001b[1;33m(\u001b[0m\u001b[1;36m2\u001b[0m\u001b[1;33m)\u001b[0m\u001b[1;33m\u001b[0m\u001b[1;33m\u001b[0m\u001b[0m\n\u001b[0m",
      "\u001b[1;31mKeyboardInterrupt\u001b[0m: "
     ]
    }
   ],
   "source": [
    "# 50ETF沽2月2750期权数据\n",
    "import requests\n",
    "import json\n",
    "import pymysql\n",
    "import time\n",
    "def fundsdata():\n",
    "    # 请求地址\n",
    "    url = 'http://push2.eastmoney.com/api/qt/stock/details/get?secid=10.10002268&ut=bd1d9ddb04089700cf9c27f6f7426281&fields1=f1,f2,f3,f4&fields2=f51,f52,f53,f54,f55&pos=-11&cb=jQuery18309999433802836603_1580699529194&_=1580699529198'\n",
    "    # get请求\n",
    "    json_str = requests.get(url)\n",
    "    # 请求数据转为text\n",
    "    json_data = json_str.text\n",
    "\n",
    "    # 根据括号'('与反括号')'的索引截取\n",
    "    json_data = json_data[json_data.index('(')+1 : json_data.index(')')]\n",
    "    \n",
    "    # 转为json\n",
    "    json_data = json.loads(json_data)\n",
    "\n",
    "    # 获取json的data\n",
    "    data_list = json_data.get('data')\n",
    "\n",
    "    # 获取data中的details对应列表\n",
    "    details_list = data_list['details']\n",
    "\n",
    "    # 为了给mysql插入多条数据，details_list改造成为多个元组组成的list，一个元组对应一条数据\n",
    "    details_list = [tuple(i.split(',')) for i in details_list]\n",
    "    date1=time.strftime('%Y-%m-%d',time.localtime(time.time()))\n",
    "\n",
    "\n",
    "    # 给数据库一次插入多条数据\n",
    "    # 创建连接\n",
    "    con = pymysql.connect(host='localhost', user='root', password='123456@Wky', database='push2_eastmoney', port=3306)\n",
    "\n",
    "    # 创建游标\n",
    "    cur = con.cursor()\n",
    "\n",
    "    # sql语句\n",
    "    sql = '''\n",
    "          insert into details(time, price, volume, f3, f4) values(%s, %s, %s, %s, %s)\n",
    "          '''\n",
    "    args = details_list\n",
    "    try:\n",
    "        \n",
    "        \n",
    "        # 执行sql\n",
    "        cur.executemany(sql, args) # 插入多条数据，就是多个元组组成的list\n",
    "        # 执行没问题，就提交事务\n",
    "        con.commit()\n",
    "        #print('插入数据成功！！')\n",
    "    except Exception as e:\n",
    "        print(e)\n",
    "        con.rollback()\n",
    "        print('插入数据失败！')\n",
    "    finally:\n",
    "        con.close()\n",
    "if __name__ == \"__main__\":\n",
    "    for x in range(1,7201):\n",
    "        fundsdata()\n",
    "        time.sleep(2)"
   ]
  },
  {
   "cell_type": "code",
   "execution_count": null,
   "metadata": {},
   "outputs": [],
   "source": []
  },
  {
   "cell_type": "code",
   "execution_count": null,
   "metadata": {},
   "outputs": [],
   "source": []
  }
 ],
 "metadata": {
  "kernelspec": {
   "display_name": "Python 3",
   "language": "python",
   "name": "python3"
  },
  "language_info": {
   "codemirror_mode": {
    "name": "ipython",
    "version": 3
   },
   "file_extension": ".py",
   "mimetype": "text/x-python",
   "name": "python",
   "nbconvert_exporter": "python",
   "pygments_lexer": "ipython3",
   "version": "3.8.3"
  }
 },
 "nbformat": 4,
 "nbformat_minor": 2
}
