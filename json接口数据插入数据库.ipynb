{
 "cells": [
  {
   "cell_type": "code",
   "execution_count": 4,
   "metadata": {},
   "outputs": [
    {
     "name": "stdout",
     "output_type": "stream",
     "text": [
      "插入数据成功！！\n"
     ]
    }
   ],
   "source": [
    "import requests\n",
    "import json\n",
    "import pymysql\n",
    "\n",
    "# 请求地址\n",
    "url = 'http://push2.eastmoney.com/api/qt/stock/details/get?secid=10.10002268&ut=bd1d9ddb04089700cf9c27f6f7426281&fields1=f1,f2,f3,f4&fields2=f51,f52,f53,f54,f55&pos=-11&cb=jQuery18309999433802836603_1580699529194&_=1580699529198'\n",
    "\n",
    "\n",
    "# get请求\n",
    "json_str = requests.get(url)\n",
    "# 请求数据转为text\n",
    "json_data = json_str.text\n",
    "\n",
    "# 根据括号'('与反括号')'的索引截取\n",
    "json_data = json_data[json_data.index('(')+1 : json_data.index(')')]\n",
    "\n",
    "# 转为json\n",
    "json_data = json.loads(json_data)\n",
    "\n",
    "# 获取json的data\n",
    "data_list = json_data.get('data')\n",
    "\n",
    "# 获取data中的details对应列表\n",
    "details_list = data_list['details']\n",
    "\n",
    "# 为了给mysql插入多条数据，details_list改造成为多个元组组成的list，一个元组对应一条数据\n",
    "details_list = [tuple(i.split(',')) for i in details_list]\n",
    "\n",
    "\n",
    "# 给数据库一次插入多条数据\n",
    "# 创建连接\n",
    "con = pymysql.connect(host='localhost', user='root', password='123456@Wky', database='push2_eastmoney', port=3306)\n",
    "\n",
    "# 创建游标\n",
    "cur = con.cursor()\n",
    "\n",
    "# sql语句\n",
    "sql = '''\n",
    "    insert into details(time, price, volume, f3, f4) values(%s, %s, %s, %s, %s)\n",
    "'''\n",
    "args = details_list\n",
    "try:\n",
    "    # 执行sql\n",
    "    cur.executemany(sql, args) # 插入多条数据，就是多个元组组成的list\n",
    "    # 执行没问题，就提交事务\n",
    "    con.commit()\n",
    "    print('插入数据成功！！')\n",
    "except Exception as e:\n",
    "    print(e)\n",
    "    con.rollback()\n",
    "    print('插入数据失败！')\n",
    "finally:\n",
    "    con.close()"
   ]
  },
  {
   "cell_type": "code",
   "execution_count": null,
   "metadata": {},
   "outputs": [],
   "source": []
  },
  {
   "cell_type": "code",
   "execution_count": null,
   "metadata": {},
   "outputs": [],
   "source": []
  }
 ],
 "metadata": {
  "kernelspec": {
   "display_name": "Python 3",
   "language": "python",
   "name": "python3"
  },
  "language_info": {
   "codemirror_mode": {
    "name": "ipython",
    "version": 3
   },
   "file_extension": ".py",
   "mimetype": "text/x-python",
   "name": "python",
   "nbconvert_exporter": "python",
   "pygments_lexer": "ipython3",
   "version": "3.8.3"
  }
 },
 "nbformat": 4,
 "nbformat_minor": 2
}
